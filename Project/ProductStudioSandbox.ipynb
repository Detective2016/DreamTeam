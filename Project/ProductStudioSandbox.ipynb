{
 "cells": [
  {
   "cell_type": "code",
   "execution_count": 1,
   "metadata": {
    "collapsed": true
   },
   "outputs": [],
   "source": [
    "import smtplib\n",
    " \n",
    "def sendemail(from_addr, to_addr, subject, message,\n",
    "              login, password, smtpserver='smtp.gmail.com:587'):\n",
    "    message = \"\\r\\n\".join([\n",
    "      \"From: \" + from_addr,\n",
    "      \"To: \" + to_addr,\n",
    "      \"Subject: \" + subject,\n",
    "      \"\",\n",
    "      message\n",
    "    ])\n",
    " \n",
    "    server = smtplib.SMTP(smtpserver)\n",
    "    server.starttls()\n",
    "    server.login(login,password)\n",
    "    problems = server.sendmail(from_addr, to_addr, message)\n",
    "    server.quit()"
   ]
  },
  {
   "cell_type": "code",
   "execution_count": 2,
   "metadata": {
    "collapsed": true
   },
   "outputs": [],
   "source": [
    "sendemail(from_addr    = 'dreamteambmwfs2017@gmail.com', \n",
    "          to_addr      = 'dreamteambmwfs2017@gmail.com', \n",
    "          subject      = 'Howdy', \n",
    "          message      = 'Howdy from a python function', \n",
    "          login        = 'dreamteambmwfs2017@gmail.com', \n",
    "          password     = 'dreamteamBMWFS')"
   ]
  },
  {
   "cell_type": "code",
   "execution_count": 3,
   "metadata": {},
   "outputs": [
    {
     "ename": "ModuleNotFoundError",
     "evalue": "No module named 'email.MIMEMultipart'",
     "output_type": "error",
     "traceback": [
      "\u001b[0;31m---------------------------------------------------------------------------\u001b[0m",
      "\u001b[0;31mModuleNotFoundError\u001b[0m                       Traceback (most recent call last)",
      "\u001b[0;32m<ipython-input-3-d23cc07fd4dc>\u001b[0m in \u001b[0;36m<module>\u001b[0;34m()\u001b[0m\n\u001b[0;32m----> 1\u001b[0;31m \u001b[0;32mfrom\u001b[0m \u001b[0memail\u001b[0m\u001b[0;34m.\u001b[0m\u001b[0mMIMEMultipart\u001b[0m \u001b[0;32mimport\u001b[0m \u001b[0mMIMEMultipart\u001b[0m\u001b[0;34m\u001b[0m\u001b[0m\n\u001b[0m\u001b[1;32m      2\u001b[0m \u001b[0;32mfrom\u001b[0m \u001b[0memail\u001b[0m\u001b[0;34m.\u001b[0m\u001b[0mMIMEText\u001b[0m \u001b[0;32mimport\u001b[0m \u001b[0mMIMEText\u001b[0m\u001b[0;34m\u001b[0m\u001b[0m\n\u001b[1;32m      3\u001b[0m \u001b[0;32mfrom\u001b[0m \u001b[0memail\u001b[0m\u001b[0;34m.\u001b[0m\u001b[0mMIMEImage\u001b[0m \u001b[0;32mimport\u001b[0m \u001b[0mMIMEImage\u001b[0m\u001b[0;34m\u001b[0m\u001b[0m\n",
      "\u001b[0;31mModuleNotFoundError\u001b[0m: No module named 'email.MIMEMultipart'"
     ]
    }
   ],
   "source": [
    "from email.MIMEMultipart import MIMEMultipart\n",
    "from email.MIMEText import MIMEText\n",
    "from email.MIMEImage import MIMEImage"
   ]
  },
  {
   "cell_type": "code",
   "execution_count": null,
   "metadata": {
    "collapsed": true
   },
   "outputs": [],
   "source": []
  }
 ],
 "metadata": {
  "kernelspec": {
   "display_name": "Python 3",
   "language": "python",
   "name": "python3"
  },
  "language_info": {
   "codemirror_mode": {
    "name": "ipython",
    "version": 3
   },
   "file_extension": ".py",
   "mimetype": "text/x-python",
   "name": "python",
   "nbconvert_exporter": "python",
   "pygments_lexer": "ipython3",
   "version": "3.6.1"
  }
 },
 "nbformat": 4,
 "nbformat_minor": 2
}
