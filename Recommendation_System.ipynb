{
 "cells": [
  {
   "cell_type": "raw",
   "metadata": {
    "deletable": true,
    "editable": true
   },
   "source": [
    "Dependencies\n",
    "\"Saved_Files/\" folder with encoders (and models if you do not train them here)\n",
    "\"formated_data.csv\"\n",
    "\"Python packages\""
   ]
  },
  {
   "cell_type": "code",
   "execution_count": 1,
   "metadata": {
    "collapsed": false,
    "deletable": true,
    "editable": true
   },
   "outputs": [],
   "source": [
    "import pandas as pd\n",
    "import numpy as np\n",
    "\n",
    "from collections import Counter\n",
    "\n",
    "from sklearn.ensemble import GradientBoostingClassifier\n",
    "\n",
    "from scipy.spatial.distance import cdist\n",
    "\n",
    "import pickle"
   ]
  },
  {
   "cell_type": "code",
   "execution_count": 2,
   "metadata": {
    "collapsed": true,
    "deletable": true,
    "editable": true
   },
   "outputs": [],
   "source": [
    "anclr_products = ['Keyloss', 'Paint', 'Tires', 'Windshield']"
   ]
  },
  {
   "cell_type": "code",
   "execution_count": 3,
   "metadata": {
    "collapsed": true,
    "deletable": true,
    "editable": true
   },
   "outputs": [],
   "source": [
    "# Train and save final models\n",
    "def train_final_models():\n",
    "    data, X, y_values = read_data()\n",
    "    \n",
    "    for i, y in enumerate(anclr_products):\n",
    "        model = GradientBoostingClassifier(max_depth=5, random_state=0)\n",
    "        model.fit(X, y_values[:, i])\n",
    "\n",
    "        pickle.dump(model, open('Saved_Files/' + y + '.sav', 'wb'), protocol=2)"
   ]
  },
  {
   "cell_type": "code",
   "execution_count": 67,
   "metadata": {
    "collapsed": true,
    "deletable": true,
    "editable": true
   },
   "outputs": [],
   "source": [
    "def state_region(state):\n",
    "    us_state_abbrev = {\n",
    "    'Alabama': 'AL',\n",
    "    'Alaska': 'AK',\n",
    "    'Arizona': 'AZ',\n",
    "    'Arkansas': 'AR',\n",
    "    'California': 'CA',\n",
    "    'Colorado': 'CO',\n",
    "    'Connecticut': 'CT',\n",
    "    'Delaware': 'DE',\n",
    "    'Florida': 'FL',\n",
    "    'Georgia': 'GA',\n",
    "    'Hawaii': 'HI',\n",
    "    'Idaho': 'ID',\n",
    "    'Illinois': 'IL',\n",
    "    'Indiana': 'IN',\n",
    "    'Iowa': 'IA',\n",
    "    'Kansas': 'KS',\n",
    "    'Kentucky': 'KY',\n",
    "    'Louisiana': 'LA',\n",
    "    'Maine': 'ME',\n",
    "    'Maryland': 'MD',\n",
    "    'Massachusetts': 'MA',\n",
    "    'Michigan': 'MI',\n",
    "    'Minnesota': 'MN',\n",
    "    'Mississippi': 'MS',\n",
    "    'Missouri': 'MO',\n",
    "    'Montana': 'MT',\n",
    "    'Nebraska': 'NE',\n",
    "    'Nevada': 'NV',\n",
    "    'New Hampshire': 'NH',\n",
    "    'New Jersey': 'NJ',\n",
    "    'New Mexico': 'NM',\n",
    "    'New York': 'NY',\n",
    "    'North Carolina': 'NC',\n",
    "    'North Dakota': 'ND',\n",
    "    'Ohio': 'OH',\n",
    "    'Oklahoma': 'OK',\n",
    "    'Oregon': 'OR',\n",
    "    'Pennsylvania': 'PA',\n",
    "    'Rhode Island': 'RI',\n",
    "    'South Carolina': 'SC',\n",
    "    'South Dakota': 'SD',\n",
    "    'Tennessee': 'TN',\n",
    "    'Texas': 'TX',\n",
    "    'Utah': 'UT',\n",
    "    'Vermont': 'VT',\n",
    "    'Virginia': 'VA',\n",
    "    'Washington': 'WA',\n",
    "    'West Virginia': 'WV',\n",
    "    'Wisconsin': 'WI',\n",
    "    'Wyoming': 'WY',\n",
    "    }\n",
    "    \n",
    "    state = us_state_abbrev[state]\n",
    "    \n",
    "    if state in [\"MA\", \"NY\", \"CT\", \"NJ\", \"NH\", \n",
    "             \"PA\", \"RI\", \"VT\", \"ME\"]: \n",
    "        return \"NE\"\n",
    "    elif state in [\"AK\", \"WY\", \"CA\", \"WA\", \"CO\", \n",
    "               \"HI\", \"OR\", \"UT\", \"NV\", \"NM\", \n",
    "               \"MT\", \"AZ\", \"ID\"]: \n",
    "        return \"W\"\n",
    "    elif state in [\"DE\", \"MD\", \"TX\", \"VA\", \"GA\", \"OK\",\n",
    "              \"NC\", \"LA\", \"TN\", \"FL\", \"KY\", \"AL\",\n",
    "              \"SC\", \"AR\", \"WV\", \"MS\"]:\n",
    "        return \"S\"\n",
    "    elif state in [\"ND\", \"IL\", \"MN\", \"NE\", \"IA\", \"SD\",\n",
    "              \"OH\", \"WI\", \"KS\", \"IN\", \"MI\", \"MO\"]: \n",
    "        return \"MW\""
   ]
  },
  {
   "cell_type": "code",
   "execution_count": 5,
   "metadata": {
    "collapsed": true,
    "deletable": true,
    "editable": true
   },
   "outputs": [],
   "source": [
    "# Data is already encoded\n",
    "def read_data():\n",
    "    data = pd.read_csv(\"formated_data.csv\")\n",
    "    data = data[(data['Keyloss'] != 0) | \n",
    "                (data['Paint'] != 0) |\n",
    "                (data['Windshield'] != 0) |\n",
    "                (data['Tires'] != 0)]\n",
    "    \n",
    "    data = data.reset_index(drop=True)\n",
    "    \n",
    "    y_values = data[anclr_products]  \n",
    "    y_values = [data[product] for product in anclr_products]\n",
    "    y_values = np.array(y_values).T\n",
    "    # Delete columns with products\n",
    "    X = np.array(data.drop(anclr_products, axis=1))\n",
    "    \n",
    "    return data, X, y_values"
   ]
  },
  {
   "cell_type": "code",
   "execution_count": 6,
   "metadata": {
    "collapsed": true,
    "deletable": true,
    "editable": true
   },
   "outputs": [],
   "source": [
    "# Find users like you\n",
    "def get_similar_users(test_sample):\n",
    "    data, X, y_values = read_data()\n",
    "        \n",
    "    users = data.copy()\n",
    "    users.drop(anclr_products, axis=1, inplace=True)\n",
    "\n",
    "    categorical = ['Behavior', 'Location', 'Parking Space', 'Purpose']\n",
    "    test_sample = pd.DataFrame(test_sample, index=[999999])\n",
    "    users = users.append(test_sample)\n",
    "    \n",
    "    for category in categorical:\n",
    "        users = pd.concat([users, pd.get_dummies(users[category], prefix=category)], axis=1)\n",
    "\n",
    "    users.drop(['Age', 'Usage'], axis=1 , inplace=True)\n",
    "    distances = cdist(users.loc[[999999]], users.drop([999999]), 'jaccard')[0]\n",
    "\n",
    "    num_of_similar_users = 50\n",
    "    similar_users = np.argsort(distances)[:num_of_similar_users] # 50 similar users    \n",
    "        \n",
    "    recommended_products = []\n",
    "    for product in anclr_products:\n",
    "        if sum(data.loc[similar_users][product])/num_of_similar_users > 0.3: # if more than 30% of users bought\n",
    "            recommended_products.append(product)\n",
    "\n",
    "    return recommended_products"
   ]
  },
  {
   "cell_type": "code",
   "execution_count": 7,
   "metadata": {
    "collapsed": true,
    "deletable": true,
    "editable": true
   },
   "outputs": [],
   "source": [
    "def get_recommendations(test_sample):\n",
    "    # load the model from disk\n",
    "    predictions = {\"Keyloss\": 0,\n",
    "                   \"Paint\": 0,\n",
    "                   \"Tires\": 0,\n",
    "                   \"Windshield\": 0,\n",
    "                   \"User\": 0}\n",
    "    \n",
    "    for i, y in enumerate(anclr_products):\n",
    "        model = pickle.load(open('Saved_Files/' + y + '.sav', 'rb'))\n",
    "        predictions[y] += model.predict_proba(np.array(list(test_sample.values())).reshape(1, -1))[0][1]\n",
    "    \n",
    "    \n",
    "    most_probable = sorted(list(predictions.values()))[-2:]\n",
    "    for key, value in predictions.items():\n",
    "        if value in most_probable:\n",
    "            predictions[key] = 1\n",
    "        else:\n",
    "            predictions[key] = 0\n",
    "\n",
    "    similar = get_similar_users(test_sample)\n",
    "    predictions[\"User\"] = similar # 0 until we find a similar user\n",
    "      \n",
    "    return predictions"
   ]
  },
  {
   "cell_type": "code",
   "execution_count": 46,
   "metadata": {
    "collapsed": false,
    "deletable": true,
    "editable": true
   },
   "outputs": [],
   "source": [
    "# Extract label encoders and transform test sample\n",
    "def encode_test(test_sample):\n",
    "    features_to_transform = [\"Behavior\", \"Location\", \"Parking Space\", \"Purpose\"]\n",
    "    for feature in features_to_transform:\n",
    "        encoder = pickle.load(open('Saved_Files/' + feature + '.enc', 'rb'))\n",
    "        if feature == \"Parking Space\" or feature == \"Purpose\":\n",
    "            test_sample[feature] = encoder.transform([\"\".join(sorted(test_sample[feature].split(\"|\")))])[0]\n",
    "        else:\n",
    "            test_sample[feature] = encoder.transform([test_sample[feature]])[0]"
   ]
  },
  {
   "cell_type": "code",
   "execution_count": 61,
   "metadata": {
    "collapsed": true
   },
   "outputs": [],
   "source": [
    "def transform_input(test_sample):\n",
    "    test_sample[\"Location\"] = state_region(test_sample[\"Location\"])\n",
    "    \n",
    "    dic_driving = {\n",
    "        1: \"Passive\",\n",
    "        2: \"Neutral\",\n",
    "        3: \"Aggressive\"\n",
    "    }\n",
    "    \n",
    "    test_sample[\"Behavior\"] = dic_driving[test_sample[\"Behavior\"]]\n",
    "    \n",
    "    dic_parking = {\n",
    "        1: \"Parkinglot\",\n",
    "        2: \"Parkinglot_r\",\n",
    "        3: \"Garage\"\n",
    "    }\n",
    "    \n",
    "    test_sample[\"Parking Space\"] = dic_parking[test_sample[\"Parking Space\"]]\n",
    "    \n",
    "    encode_test(test_sample)\n",
    "    \n",
    "    return test_sample"
   ]
  },
  {
   "cell_type": "markdown",
   "metadata": {
    "deletable": true,
    "editable": true
   },
   "source": [
    "### Model"
   ]
  },
  {
   "cell_type": "raw",
   "metadata": {
    "collapsed": true,
    "deletable": true,
    "editable": true
   },
   "source": [
    "train_final_models()"
   ]
  },
  {
   "cell_type": "code",
   "execution_count": 68,
   "metadata": {
    "collapsed": false,
    "deletable": true,
    "editable": true
   },
   "outputs": [
    {
     "name": "stdout",
     "output_type": "stream",
     "text": [
      "Input: \n",
      "{'Age': 32, 'Behavior': 2, 'Location': 'Maryland', 'Parking Space': 2, 'Purpose': 'Racing', 'Usage': 25}\n",
      "MD\n",
      "{'Age': 32, 'Behavior': 1, 'Location': 2, 'Parking Space': 12, 'Purpose': 24, 'Usage': 25}\n",
      "Output: \n",
      "{'Keyloss': 0, 'Paint': 0, 'Tires': 1, 'Windshield': 1, 'User': ['Paint', 'Tires', 'Windshield']}\n",
      "\n",
      "Input: \n",
      "{'Age': 63, 'Behavior': 3, 'Location': 'Virginia', 'Parking Space': 2, 'Purpose': 'Working', 'Usage': 11}\n",
      "VA\n",
      "{'Age': 63, 'Behavior': 0, 'Location': 2, 'Parking Space': 12, 'Purpose': 30, 'Usage': 11}\n",
      "Output: \n",
      "{'Keyloss': 0, 'Paint': 1, 'Tires': 1, 'Windshield': 0, 'User': ['Paint', 'Tires', 'Windshield']}\n",
      "\n",
      "Input: \n",
      "{'Age': 59, 'Behavior': 3, 'Location': 'Virginia', 'Parking Space': 1, 'Purpose': 'Racing', 'Usage': 28}\n",
      "VA\n",
      "{'Age': 59, 'Behavior': 0, 'Location': 2, 'Parking Space': 8, 'Purpose': 24, 'Usage': 28}\n",
      "Output: \n",
      "{'Keyloss': 0, 'Paint': 0, 'Tires': 1, 'Windshield': 1, 'User': ['Paint', 'Tires', 'Windshield']}\n",
      "\n",
      "Input: \n",
      "{'Age': 22, 'Behavior': 3, 'Location': 'Maryland', 'Parking Space': 3, 'Purpose': 'Working', 'Usage': 27}\n",
      "MD\n",
      "{'Age': 22, 'Behavior': 0, 'Location': 2, 'Parking Space': 0, 'Purpose': 30, 'Usage': 27}\n",
      "Output: \n",
      "{'Keyloss': 1, 'Paint': 1, 'Tires': 0, 'Windshield': 0, 'User': ['Paint', 'Tires', 'Windshield']}\n",
      "\n",
      "Input: \n",
      "{'Age': 66, 'Behavior': 3, 'Location': 'Virginia', 'Parking Space': 1, 'Purpose': 'Working', 'Usage': 28}\n",
      "VA\n",
      "{'Age': 66, 'Behavior': 0, 'Location': 2, 'Parking Space': 8, 'Purpose': 30, 'Usage': 28}\n",
      "Output: \n",
      "{'Keyloss': 1, 'Paint': 1, 'Tires': 0, 'Windshield': 0, 'User': ['Paint', 'Tires', 'Windshield']}\n",
      "\n",
      "Input: \n",
      "{'Age': 17, 'Behavior': 3, 'Location': 'Maryland', 'Parking Space': 2, 'Purpose': 'Working', 'Usage': 28}\n",
      "MD\n",
      "{'Age': 17, 'Behavior': 0, 'Location': 2, 'Parking Space': 12, 'Purpose': 30, 'Usage': 28}\n",
      "Output: \n",
      "{'Keyloss': 0, 'Paint': 1, 'Tires': 1, 'Windshield': 0, 'User': ['Paint', 'Tires', 'Windshield']}\n",
      "\n",
      "Input: \n",
      "{'Age': 34, 'Behavior': 2, 'Location': 'Virginia', 'Parking Space': 3, 'Purpose': 'Traveling', 'Usage': 9}\n",
      "VA\n",
      "{'Age': 34, 'Behavior': 1, 'Location': 2, 'Parking Space': 0, 'Purpose': 28, 'Usage': 9}\n",
      "Output: \n",
      "{'Keyloss': 0, 'Paint': 0, 'Tires': 1, 'Windshield': 1, 'User': ['Tires', 'Windshield']}\n",
      "\n",
      "Input: \n",
      "{'Age': 55, 'Behavior': 2, 'Location': 'West Virginia', 'Parking Space': 2, 'Purpose': 'Leisure', 'Usage': 20}\n",
      "WV\n",
      "{'Age': 55, 'Behavior': 1, 'Location': 2, 'Parking Space': 12, 'Purpose': 16, 'Usage': 20}\n",
      "Output: \n",
      "{'Keyloss': 0, 'Paint': 0, 'Tires': 1, 'Windshield': 1, 'User': ['Paint', 'Tires', 'Windshield']}\n",
      "\n",
      "Input: \n",
      "{'Age': 32, 'Behavior': 3, 'Location': 'Maryland', 'Parking Space': 3, 'Purpose': 'Commuting', 'Usage': 16}\n",
      "MD\n",
      "{'Age': 32, 'Behavior': 0, 'Location': 2, 'Parking Space': 0, 'Purpose': 0, 'Usage': 16}\n",
      "Output: \n",
      "{'Keyloss': 0, 'Paint': 1, 'Tires': 0, 'Windshield': 1, 'User': ['Paint', 'Tires', 'Windshield']}\n",
      "\n",
      "Input: \n",
      "{'Age': 75, 'Behavior': 1, 'Location': 'Maryland', 'Parking Space': 2, 'Purpose': 'Leisure', 'Usage': 6}\n",
      "MD\n",
      "{'Age': 75, 'Behavior': 2, 'Location': 2, 'Parking Space': 12, 'Purpose': 16, 'Usage': 6}\n",
      "Output: \n",
      "{'Keyloss': 0, 'Paint': 0, 'Tires': 1, 'Windshield': 1, 'User': ['Windshield']}\n",
      "\n"
     ]
    }
   ],
   "source": [
    "# Examlple with states\n",
    "samples = []\n",
    "for i in range(10):\n",
    "    samples.append({\"Age\": np.random.randint(16, 80),\n",
    "                  \"Behavior\": np.random.choice([1, 2, 3]),\n",
    "                  \"Location\": np.random.choice(['Maryland', 'Virginia', 'West Virginia']),\n",
    "                  \"Parking Space\": np.random.choice([1, 2, 3]),\n",
    "                  \"Purpose\": np.random.choice([\"Racing\", \"Leisure\", \"Working\", \"Commuting\", \"Traveling\"]),\n",
    "                  \"Usage\": np.random.randint(5, 30)})\n",
    "\n",
    "# Recommend 2 most probable products\n",
    "# Similar user is 0 until we find a similar user\n",
    "for sample in samples:\n",
    "    print(\"Input: \")\n",
    "    print(sample)\n",
    "    sample = transform_input(sample)\n",
    "    print(sample)\n",
    "    print(\"Output: \")\n",
    "    print(get_recommendations(sample))\n",
    "    print()"
   ]
  },
  {
   "cell_type": "code",
   "execution_count": null,
   "metadata": {
    "collapsed": true
   },
   "outputs": [],
   "source": []
  }
 ],
 "metadata": {
  "kernelspec": {
   "display_name": "Python 3",
   "language": "python",
   "name": "python3"
  },
  "language_info": {
   "codemirror_mode": {
    "name": "ipython",
    "version": 3
   },
   "file_extension": ".py",
   "mimetype": "text/x-python",
   "name": "python",
   "nbconvert_exporter": "python",
   "pygments_lexer": "ipython3",
   "version": "3.6.0"
  }
 },
 "nbformat": 4,
 "nbformat_minor": 2
}
